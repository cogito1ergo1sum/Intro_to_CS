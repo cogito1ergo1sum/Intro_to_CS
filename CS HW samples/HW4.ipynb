{
 "cells": [
  {
   "cell_type": "code",
   "execution_count": 1086,
   "metadata": {
    "pycharm": {
     "name": "#%%\n"
    }
   },
   "outputs": [],
   "source": [
    "import numpy as np\n",
    "import pandas as pd\n",
    "import matplotlib.pyplot as plt\n",
    "import seaborn as sns\n",
    "\n",
    "# For running time analysis\n",
    "import time"
   ]
  },
  {
   "cell_type": "markdown",
   "metadata": {
    "pycharm": {
     "name": "#%% md\n"
    }
   },
   "source": [
    "## Bubble Sort and Merge Sort: Time-Complexity Analysis\n",
    "***\n",
    "\n",
    "In this part we will analyze the time complexity of Bubble sort and Merge sort. \n",
    "\n",
    "### Step 1\n",
    "\n",
    "Implement two sorting functions: [bubble sort](https://en.wikipedia.org/wiki/Bubble_sort) and [merge sort](https://en.wikipedia.org/wiki/Merge_sort). Your functions should take as input a python list (you can assume no duplicates values) and return a sorted python list with the same elements. You can use the built-in function `sorted` to check your implementation. (Don't use numpy in your implementation)\n"
   ]
  },
  {
   "cell_type": "code",
   "execution_count": 642,
   "metadata": {
    "pycharm": {
     "name": "#%%\n"
    }
   },
   "outputs": [],
   "source": [
    "def bubble_sort(values):\n",
    "    for i in range (len(values)-1):\n",
    "        for j in range(len(values)-1):\n",
    "            if values[j] > values[j+1]:\n",
    "                values[j], values[j+1] = values[j+1], values[j]\n",
    "    return values\n",
    "\n",
    "###############################end of code###########################################\n",
    "x = [1, 99, 18, 2]\n",
    "bubble_sort(x), sorted(x)"
   ]
  },
  {
   "cell_type": "code",
   "execution_count": 643,
   "metadata": {
    "pycharm": {
     "name": "#%%\n"
    }
   },
   "outputs": [],
   "source": [
    "def merge_sort(values): \n",
    "  \n",
    "    if len(values) > 1: \n",
    "        \n",
    "        #split list in 2 and call recursively on each half\n",
    "        middle = len(values) // 2\n",
    "        left = values[:middle] \n",
    "        right = values[middle:] \n",
    "        left = merge_sort(left) \n",
    "        right = merge_sort(right) \n",
    "  \n",
    "        values = [] \n",
    "  \n",
    "        while len(left) > 0 and len(right) > 0: \n",
    "            if left[0] < right[0]: \n",
    "                values.append(left[0]) \n",
    "                left.pop(0) \n",
    "            else: \n",
    "                values.append(right[0]) \n",
    "                right.pop(0) \n",
    "  \n",
    "        for i in left: \n",
    "            values.append(i) \n",
    "        for i in right: \n",
    "            values.append(i) \n",
    "                  \n",
    "    return values \n",
    "\n",
    "###############################end of code###########################################\n",
    "\n",
    "\n",
    "z = ([2,4, 3, 1, 3, 5, 100, -5])\n",
    "merge_sort(z), sorted(z)"
   ]
  },
  {
   "cell_type": "markdown",
   "metadata": {
    "pycharm": {
     "name": "#%% md\n"
    }
   },
   "source": [
    "### Step 2\n",
    "\n",
    "In this step you will analyze the running time of each algorithm. Generate 20 random sequences of length $n$ (use `np.random.permutation`) and run bubble sort and merge sort on each random sequence. Next, calculate the average running time of your implementations. Repeat this process for the following lengths: $n \\in range(0, 4,000, 100)$ and plot a single figure that describes the average running time as a function of the input length of both algorithms (single figure, single axes but 2 plots, one for each algorithm). Make sure your visualization is clear. Use colors, labels, header, legend and anything else that might improve your visualization in terms of clarity.  \n",
    "To measure execution time use :\n",
    "```python\n",
    "start_time = time.time()\n",
    "algorithm()\n",
    "exec_time = time.time() - start_time\n",
    "```"
   ]
  },
  {
   "cell_type": "code",
   "execution_count": 1105,
   "metadata": {
    "pycharm": {
     "name": "#%%\n"
    }
   },
   "outputs": [
    {
     "name": "stdout",
     "output_type": "stream",
     "text": [
      "[1.2993812561035157e-06, 0.0006069302558898926, 0.0011282682418823243, 0.0017256855964660645, 0.0023006796836853027, 0.003343832492828369, 0.004427170753479004, 0.004650628566741944, 0.005467033386230469, 0.005831217765808106, 0.006095612049102783, 0.007438719272613525, 0.007625603675842285, 0.008729970455169678, 0.009641778469085694, 0.01027820110321045, 0.01122586727142334, 0.011045873165130615, 0.011866068840026856, 0.012509799003601075, 0.013303148746490478, 0.01402745246887207, 0.01543726921081543, 0.015641403198242188, 0.017547595500946044, 0.01768155097961426, 0.01829805374145508, 0.01909635066986084, 0.019510579109191895, 0.021294116973876953, 0.021408939361572267, 0.022214412689208984, 0.022886323928833007, 0.024095070362091065, 0.024628925323486327, 0.02490079402923584, 0.02883092164993286, 0.027412784099578858, 0.028406250476837158, 0.028272294998168947]\n",
      "[1.6450881958007813e-06, 0.0019517302513122558, 0.006315422058105469, 0.01405245065689087, 0.025693333148956297, 0.04521137475967407, 0.06845378875732422, 0.08987373113632202, 0.11754920482635497, 0.1314802885055542, 0.16699368953704835, 0.2044249415397644, 0.23555880784988403, 0.28641287088394163, 0.3293613433837891, 0.3889025092124939, 0.4361566185951233, 0.4747820973396301, 0.530364167690277, 0.593375051021576, 0.6645347237586975, 0.7306516170501709, 0.7981127142906189, 0.8746072292327881, 1.03118234872818, 1.0605160593986511, 1.1348109245300293, 1.221420443058014, 1.3155269742012023, 1.4309396982192992, 1.5107449650764466, 1.6093748211860657, 1.7335679888725282, 1.8158668518066405, 1.9294584393501282, 2.0506056547164917, 2.294403600692749, 2.373262333869934, 2.426341450214386, 2.5451117753982544]\n"
     ]
    }
   ],
   "source": [
    "def time_it():\n",
    "    \n",
    "    #temporary lists to save runtime and then average\n",
    "    bubble_times = np.zeros(20)\n",
    "    merge_times = np.zeros(20)\n",
    "    \n",
    "    #lists for saving avg time per list lenght\n",
    "    bubble_avg_times = list()\n",
    "    merge_avg_times = list() \n",
    "    \n",
    "    for n in range(0, 4000, 100):\n",
    "        for i in range(20):\n",
    "            permutation = np.random.permutation(n)\n",
    "            \n",
    "            #time mergesort for current permutation\n",
    "            start_time = time.time()\n",
    "            merge_sort(permutation.tolist())\n",
    "            merge_times[i] = time.time() - start_time\n",
    "            \n",
    "            #time bubblesort for current permutation\n",
    "            start_time = time.time()\n",
    "            bubble_sort(permutation.tolist())\n",
    "            bubble_times[i] = time.time() - start_time\n",
    "        \n",
    "        #calculate averages and save them\n",
    "        merge_avg_times.append(np.average(merge_times))\n",
    "        bubble_avg_times.append(np.average(bubble_times))\n",
    "    return merge_avg_times, bubble_avg_times\n",
    "    \n",
    "         \n",
    "merge_sort_times, bubble_sort_times = time_it()  \n",
    "print(merge_sort_times)\n",
    "print(bubble_sort_times)   "
   ]
  },
  {
   "cell_type": "code",
   "execution_count": 1106,
   "metadata": {
    "pycharm": {
     "name": "#%%\n"
    }
   },
   "outputs": [
    {
     "name": "stdout",
     "output_type": "stream",
     "text": [
      "      Bubble Sort  Merge Sort\n",
      "0        0.000002    0.000001\n",
      "100      0.001952    0.000607\n",
      "200      0.006315    0.001128\n",
      "300      0.014052    0.001726\n",
      "400      0.025693    0.002301\n",
      "500      0.045211    0.003344\n",
      "600      0.068454    0.004427\n",
      "700      0.089874    0.004651\n",
      "800      0.117549    0.005467\n",
      "900      0.131480    0.005831\n",
      "1000     0.166994    0.006096\n",
      "1100     0.204425    0.007439\n",
      "1200     0.235559    0.007626\n",
      "1300     0.286413    0.008730\n",
      "1400     0.329361    0.009642\n",
      "1500     0.388903    0.010278\n",
      "1600     0.436157    0.011226\n",
      "1700     0.474782    0.011046\n",
      "1800     0.530364    0.011866\n",
      "1900     0.593375    0.012510\n",
      "2000     0.664535    0.013303\n",
      "2100     0.730652    0.014027\n",
      "2200     0.798113    0.015437\n",
      "2300     0.874607    0.015641\n",
      "2400     1.031182    0.017548\n",
      "2500     1.060516    0.017682\n",
      "2600     1.134811    0.018298\n",
      "2700     1.221420    0.019096\n",
      "2800     1.315527    0.019511\n",
      "2900     1.430940    0.021294\n",
      "3000     1.510745    0.021409\n",
      "3100     1.609375    0.022214\n",
      "3200     1.733568    0.022886\n",
      "3300     1.815867    0.024095\n",
      "3400     1.929458    0.024629\n",
      "3500     2.050606    0.024901\n",
      "3600     2.294404    0.028831\n",
      "3700     2.373262    0.027413\n",
      "3800     2.426341    0.028406\n",
      "3900     2.545112    0.028272\n"
     ]
    }
   ],
   "source": [
    "#save both results into Series\n",
    "s_1 = pd.Series(data = bubble_sort_times, index =range(0, 4000, 100))\n",
    "s_2 = pd.Series(data = merge_sort_times, index =range(0, 4000, 100))\n",
    "d = pd.concat([s_1, s_2], axis= 1)\n",
    "data = d.rename(columns={0: 'Bubble Sort', 1: 'Merge Sort'})\n",
    "print(data)"
   ]
  },
  {
   "cell_type": "code",
   "execution_count": 1107,
   "metadata": {
    "pycharm": {
     "name": "#%%\n"
    }
   },
   "outputs": [
    {
     "data": {
      "image/png": "[encoded data removed]",
      "text/plain": [
       "<Figure size 576x576 with 1 Axes>"
      ]
     },
     "metadata": {
      "needs_background": "light"
     },
     "output_type": "display_data"
    }
   ],
   "source": [
    "#plotting time analysis to compare graph to expected results\n",
    "\n",
    "x = np.arange(0, 4000, 100)\n",
    "\n",
    "y = data['Bubble Sort']\n",
    "z = data['Merge Sort']\n",
    "\n",
    "figure = plt.figure(figsize=(8, 8))\n",
    "axes = figure.add_axes([0,0,1,1])\n",
    "\n",
    "axes.plot(x, z, \"g\", label=\"Merge Sort\")\n",
    "axes.plot(x, y, \"r\", label=\"Bubble Sort\")\n",
    "\n",
    "axes.legend()\n",
    "plt.title('Time Analysis of Merge Sort vs Bubble Sort')\n",
    "plt.xlabel('Length of Input Array')\n",
    "plt.ylabel('Time (in Seconds) to Return Sorted Array');"
   ]
  },
  {
   "cell_type": "markdown",
   "metadata": {
    "pycharm": {
     "name": "#%% md\n"
    }
   },
   "source": [
    "## Detecting serial killer activity\n",
    "***\n",
    "\n",
    "Visit the following [Kaggle page](https://www.kaggle.com/murderaccountability/homicide-reports) and download the `homicide-reports` dataset.\n",
    "\n",
    "### Visualizations guidelines:\n",
    "\n",
    "- You can use either `pyplot` or `seaborn` for the visualization.\n",
    "- Fill free to change the figure size in each plot.\n",
    "- Set plot title and the axes titles of your plots.\n",
    "- Use legends when necessary.\n",
    "\n",
    "\n",
    "### Data preprocessing\n",
    "\n",
    "1. Start with dropping the numeric identifiers in the data. These are : `Record ID` and `Agency Code`. The data\n",
    "you will be querying shouldn't contain these columns.\n",
    "\n",
    "### Data "
   ]
  },
  {
   "cell_type": "code",
   "execution_count": 1036,
   "metadata": {
    "pycharm": {
     "name": "#%%\n"
    }
   },
   "outputs": [
    {
     "name": "stderr",
     "output_type": "stream",
     "text": [
      "/usr/local/lib/python3.8/site-packages/IPython/core/interactiveshell.py:3145: DtypeWarning: Columns (16) have mixed types.Specify dtype option on import or set low_memory=False.\n",
      "  has_raised = await self.run_ast_nodes(code_ast.body, cell_name,\n"
     ]
    }
   ],
   "source": [
    "df = pd.read_csv('./homicide_dataset.zip', compression='zip', header=0, sep=',', quotechar='\"')\n",
    "df = df.drop( columns=['Record ID', 'Agency Code'] )"
   ]
  },
  {
   "cell_type": "code",
   "execution_count": 47,
   "metadata": {
    "pycharm": {
     "name": "#%%\n"
    }
   },
   "outputs": [
    {
     "data": {
      "text/html": [
       "<div>\n",
       "<style scoped>\n",
       "    .dataframe tbody tr th:only-of-type {\n",
       "        vertical-align: middle;\n",
       "    }\n",
       "\n",
       "    .dataframe tbody tr th {\n",
       "        vertical-align: top;\n",
       "    }\n",
       "\n",
       "    .dataframe thead th {\n",
       "        text-align: right;\n",
       "    }\n",
       "</style>\n",
       "<table border=\"1\" class=\"dataframe\">\n",
       "  <thead>\n",
       "    <tr style=\"text-align: right;\">\n",
       "      <th></th>\n",
       "      <th>Agency Name</th>\n",
       "      <th>Agency Type</th>\n",
       "      <th>City</th>\n",
       "      <th>State</th>\n",
       "      <th>Year</th>\n",
       "      <th>Month</th>\n",
       "      <th>Incident</th>\n",
       "      <th>Crime Type</th>\n",
       "      <th>Crime Solved</th>\n",
       "      <th>Victim Sex</th>\n",
       "      <th>...</th>\n",
       "      <th>Victim Ethnicity</th>\n",
       "      <th>Perpetrator Sex</th>\n",
       "      <th>Perpetrator Age</th>\n",
       "      <th>Perpetrator Race</th>\n",
       "      <th>Perpetrator Ethnicity</th>\n",
       "      <th>Relationship</th>\n",
       "      <th>Weapon</th>\n",
       "      <th>Victim Count</th>\n",
       "      <th>Perpetrator Count</th>\n",
       "      <th>Record Source</th>\n",
       "    </tr>\n",
       "  </thead>\n",
       "  <tbody>\n",
       "    <tr>\n",
       "      <th>0</th>\n",
       "      <td>Anchorage</td>\n",
       "      <td>Municipal Police</td>\n",
       "      <td>Anchorage</td>\n",
       "      <td>Alaska</td>\n",
       "      <td>1980</td>\n",
       "      <td>January</td>\n",
       "      <td>1</td>\n",
       "      <td>Murder or Manslaughter</td>\n",
       "      <td>Yes</td>\n",
       "      <td>Male</td>\n",
       "      <td>...</td>\n",
       "      <td>Unknown</td>\n",
       "      <td>Male</td>\n",
       "      <td>15</td>\n",
       "      <td>Native American/Alaska Native</td>\n",
       "      <td>Unknown</td>\n",
       "      <td>Acquaintance</td>\n",
       "      <td>Blunt Object</td>\n",
       "      <td>0</td>\n",
       "      <td>0</td>\n",
       "      <td>FBI</td>\n",
       "    </tr>\n",
       "    <tr>\n",
       "      <th>1</th>\n",
       "      <td>Anchorage</td>\n",
       "      <td>Municipal Police</td>\n",
       "      <td>Anchorage</td>\n",
       "      <td>Alaska</td>\n",
       "      <td>1980</td>\n",
       "      <td>March</td>\n",
       "      <td>1</td>\n",
       "      <td>Murder or Manslaughter</td>\n",
       "      <td>Yes</td>\n",
       "      <td>Male</td>\n",
       "      <td>...</td>\n",
       "      <td>Unknown</td>\n",
       "      <td>Male</td>\n",
       "      <td>42</td>\n",
       "      <td>White</td>\n",
       "      <td>Unknown</td>\n",
       "      <td>Acquaintance</td>\n",
       "      <td>Strangulation</td>\n",
       "      <td>0</td>\n",
       "      <td>0</td>\n",
       "      <td>FBI</td>\n",
       "    </tr>\n",
       "    <tr>\n",
       "      <th>2</th>\n",
       "      <td>Anchorage</td>\n",
       "      <td>Municipal Police</td>\n",
       "      <td>Anchorage</td>\n",
       "      <td>Alaska</td>\n",
       "      <td>1980</td>\n",
       "      <td>March</td>\n",
       "      <td>2</td>\n",
       "      <td>Murder or Manslaughter</td>\n",
       "      <td>No</td>\n",
       "      <td>Female</td>\n",
       "      <td>...</td>\n",
       "      <td>Unknown</td>\n",
       "      <td>Unknown</td>\n",
       "      <td>0</td>\n",
       "      <td>Unknown</td>\n",
       "      <td>Unknown</td>\n",
       "      <td>Unknown</td>\n",
       "      <td>Unknown</td>\n",
       "      <td>0</td>\n",
       "      <td>0</td>\n",
       "      <td>FBI</td>\n",
       "    </tr>\n",
       "    <tr>\n",
       "      <th>3</th>\n",
       "      <td>Anchorage</td>\n",
       "      <td>Municipal Police</td>\n",
       "      <td>Anchorage</td>\n",
       "      <td>Alaska</td>\n",
       "      <td>1980</td>\n",
       "      <td>April</td>\n",
       "      <td>1</td>\n",
       "      <td>Murder or Manslaughter</td>\n",
       "      <td>Yes</td>\n",
       "      <td>Male</td>\n",
       "      <td>...</td>\n",
       "      <td>Unknown</td>\n",
       "      <td>Male</td>\n",
       "      <td>42</td>\n",
       "      <td>White</td>\n",
       "      <td>Unknown</td>\n",
       "      <td>Acquaintance</td>\n",
       "      <td>Strangulation</td>\n",
       "      <td>0</td>\n",
       "      <td>0</td>\n",
       "      <td>FBI</td>\n",
       "    </tr>\n",
       "    <tr>\n",
       "      <th>4</th>\n",
       "      <td>Anchorage</td>\n",
       "      <td>Municipal Police</td>\n",
       "      <td>Anchorage</td>\n",
       "      <td>Alaska</td>\n",
       "      <td>1980</td>\n",
       "      <td>April</td>\n",
       "      <td>2</td>\n",
       "      <td>Murder or Manslaughter</td>\n",
       "      <td>No</td>\n",
       "      <td>Female</td>\n",
       "      <td>...</td>\n",
       "      <td>Unknown</td>\n",
       "      <td>Unknown</td>\n",
       "      <td>0</td>\n",
       "      <td>Unknown</td>\n",
       "      <td>Unknown</td>\n",
       "      <td>Unknown</td>\n",
       "      <td>Unknown</td>\n",
       "      <td>0</td>\n",
       "      <td>1</td>\n",
       "      <td>FBI</td>\n",
       "    </tr>\n",
       "  </tbody>\n",
       "</table>\n",
       "<p>5 rows × 22 columns</p>\n",
       "</div>"
      ],
      "text/plain": [
       "  Agency Name       Agency Type       City   State  Year    Month  Incident  \\\n",
       "0   Anchorage  Municipal Police  Anchorage  Alaska  1980  January         1   \n",
       "1   Anchorage  Municipal Police  Anchorage  Alaska  1980    March         1   \n",
       "2   Anchorage  Municipal Police  Anchorage  Alaska  1980    March         2   \n",
       "3   Anchorage  Municipal Police  Anchorage  Alaska  1980    April         1   \n",
       "4   Anchorage  Municipal Police  Anchorage  Alaska  1980    April         2   \n",
       "\n",
       "               Crime Type Crime Solved Victim Sex  ...  Victim Ethnicity  \\\n",
       "0  Murder or Manslaughter          Yes       Male  ...           Unknown   \n",
       "1  Murder or Manslaughter          Yes       Male  ...           Unknown   \n",
       "2  Murder or Manslaughter           No     Female  ...           Unknown   \n",
       "3  Murder or Manslaughter          Yes       Male  ...           Unknown   \n",
       "4  Murder or Manslaughter           No     Female  ...           Unknown   \n",
       "\n",
       "  Perpetrator Sex Perpetrator Age               Perpetrator Race  \\\n",
       "0            Male              15  Native American/Alaska Native   \n",
       "1            Male              42                          White   \n",
       "2         Unknown               0                        Unknown   \n",
       "3            Male              42                          White   \n",
       "4         Unknown               0                        Unknown   \n",
       "\n",
       "  Perpetrator Ethnicity  Relationship         Weapon Victim Count  \\\n",
       "0               Unknown  Acquaintance   Blunt Object            0   \n",
       "1               Unknown  Acquaintance  Strangulation            0   \n",
       "2               Unknown       Unknown        Unknown            0   \n",
       "3               Unknown  Acquaintance  Strangulation            0   \n",
       "4               Unknown       Unknown        Unknown            0   \n",
       "\n",
       "  Perpetrator Count  Record Source  \n",
       "0                 0            FBI  \n",
       "1                 0            FBI  \n",
       "2                 0            FBI  \n",
       "3                 0            FBI  \n",
       "4                 1            FBI  \n",
       "\n",
       "[5 rows x 22 columns]"
      ]
     },
     "execution_count": 47,
     "metadata": {},
     "output_type": "execute_result"
    }
   ],
   "source": [
    "df.head()"
   ]
  },
  {
   "cell_type": "code",
   "execution_count": 48,
   "metadata": {
    "pycharm": {
     "name": "#%%\n"
    }
   },
   "outputs": [
    {
     "data": {
      "text/plain": [
       "Index(['Agency Name', 'Agency Type', 'City', 'State', 'Year', 'Month',\n",
       "       'Incident', 'Crime Type', 'Crime Solved', 'Victim Sex', 'Victim Age',\n",
       "       'Victim Race', 'Victim Ethnicity', 'Perpetrator Sex', 'Perpetrator Age',\n",
       "       'Perpetrator Race', 'Perpetrator Ethnicity', 'Relationship', 'Weapon',\n",
       "       'Victim Count', 'Perpetrator Count', 'Record Source'],\n",
       "      dtype='object')"
      ]
     },
     "execution_count": 48,
     "metadata": {},
     "output_type": "execute_result"
    }
   ],
   "source": [
    "df.columns #check columns"
   ]
  },
  {
   "cell_type": "markdown",
   "metadata": {
    "pycharm": {
     "name": "#%% md\n"
    }
   },
   "source": [
    "__Show the number of incidents (a simple count) in each state using a bar plot, display the bar sorted from highest to lowest. x ticks of the plot should be the states names.__"
   ]
  },
  {
   "cell_type": "code",
   "execution_count": 1037,
   "metadata": {
    "pycharm": {
     "name": "#%%\n"
    }
   },
   "outputs": [
    {
     "data": {
      "text/plain": [
       "<BarContainer object of 51 artists>"
      ]
     },
     "execution_count": 1037,
     "metadata": {},
     "output_type": "execute_result"
    },
    {
     "data": {
      "image/png": "[encoded data removed]",
      "text/plain": [
       "<Figure size 1080x360 with 1 Axes>"
      ]
     },
     "metadata": {
      "needs_background": "light"
     },
     "output_type": "display_data"
    }
   ],
   "source": [
    "state_incidents = df.groupby('State')['Incident'].count()\n",
    "\n",
    "state_incidents = state_incidents.sort_values(ascending=False)\n",
    "plt.figure(figsize=(15, 5))\n",
    "plt.xticks(rotation=90)\n",
    "plt.xlabel('States')\n",
    "plt.ylabel('Incident Count')\n",
    "plt.title('Incidents per State')\n",
    "plt.bar(x=state_incidents.index, height=state_incidents.values)"
   ]
  },
  {
   "cell_type": "markdown",
   "metadata": {
    "pycharm": {
     "name": "#%% md\n"
    }
   },
   "source": [
    "__Find the cities with highest number of incidents between the years 1995 - 2000 (Including 95 excluding 00). Plot the top 10 cities trend line : x should be the year and y should be the incidents count. (Each city should have 5 points). Use a single axes for all.__"
   ]
  },
  {
   "cell_type": "code",
   "execution_count": 228,
   "metadata": {
    "pycharm": {
     "name": "#%%\n"
    }
   },
   "outputs": [
    {
     "data": {
      "text/html": [
       "<div>\n",
       "<style scoped>\n",
       "    .dataframe tbody tr th:only-of-type {\n",
       "        vertical-align: middle;\n",
       "    }\n",
       "\n",
       "    .dataframe tbody tr th {\n",
       "        vertical-align: top;\n",
       "    }\n",
       "\n",
       "    .dataframe thead th {\n",
       "        text-align: right;\n",
       "    }\n",
       "</style>\n",
       "<table border=\"1\" class=\"dataframe\">\n",
       "  <thead>\n",
       "    <tr style=\"text-align: right;\">\n",
       "      <th></th>\n",
       "      <th>City</th>\n",
       "      <th>Incident</th>\n",
       "    </tr>\n",
       "  </thead>\n",
       "  <tbody>\n",
       "    <tr>\n",
       "      <th>773</th>\n",
       "      <td>Los Angeles</td>\n",
       "      <td>6404</td>\n",
       "    </tr>\n",
       "    <tr>\n",
       "      <th>922</th>\n",
       "      <td>New York</td>\n",
       "      <td>4412</td>\n",
       "    </tr>\n",
       "    <tr>\n",
       "      <th>323</th>\n",
       "      <td>Cook</td>\n",
       "      <td>3791</td>\n",
       "    </tr>\n",
       "    <tr>\n",
       "      <th>1404</th>\n",
       "      <td>Wayne</td>\n",
       "      <td>2643</td>\n",
       "    </tr>\n",
       "    <tr>\n",
       "      <th>1026</th>\n",
       "      <td>Philadelphia</td>\n",
       "      <td>1988</td>\n",
       "    </tr>\n",
       "    <tr>\n",
       "      <th>573</th>\n",
       "      <td>Harris</td>\n",
       "      <td>1869</td>\n",
       "    </tr>\n",
       "    <tr>\n",
       "      <th>73</th>\n",
       "      <td>Baltimore city</td>\n",
       "      <td>1544</td>\n",
       "    </tr>\n",
       "    <tr>\n",
       "      <th>805</th>\n",
       "      <td>Maricopa</td>\n",
       "      <td>1478</td>\n",
       "    </tr>\n",
       "    <tr>\n",
       "      <th>362</th>\n",
       "      <td>Dallas</td>\n",
       "      <td>1446</td>\n",
       "    </tr>\n",
       "    <tr>\n",
       "      <th>656</th>\n",
       "      <td>Jefferson</td>\n",
       "      <td>1438</td>\n",
       "    </tr>\n",
       "  </tbody>\n",
       "</table>\n",
       "</div>"
      ],
      "text/plain": [
       "                City  Incident\n",
       "773      Los Angeles      6404\n",
       "922         New York      4412\n",
       "323             Cook      3791\n",
       "1404           Wayne      2643\n",
       "1026    Philadelphia      1988\n",
       "573           Harris      1869\n",
       "73    Baltimore city      1544\n",
       "805         Maricopa      1478\n",
       "362           Dallas      1446\n",
       "656        Jefferson      1438"
      ]
     },
     "execution_count": 228,
     "metadata": {},
     "output_type": "execute_result"
    }
   ],
   "source": [
    "#Understood as within that certain period of years, which are the cities that have the most incidents.\n",
    "mask_years = ( df['Year'] >= 1995 ) & ( df['Year'] < 2000 )\n",
    "top_cities = df[mask_years].groupby(['City'])['Incident'].count().reset_index()\n",
    "top_cities = top_cities.sort_values(by=['Incident'], ascending=False)[0:10]\n",
    "top_cities"
   ]
  },
  {
   "cell_type": "code",
   "execution_count": 1042,
   "metadata": {
    "pycharm": {
     "name": "#%%\n"
    }
   },
   "outputs": [
    {
     "data": {
      "text/html": [
       "<div>\n",
       "<style scoped>\n",
       "    .dataframe tbody tr th:only-of-type {\n",
       "        vertical-align: middle;\n",
       "    }\n",
       "\n",
       "    .dataframe tbody tr th {\n",
       "        vertical-align: top;\n",
       "    }\n",
       "\n",
       "    .dataframe thead th {\n",
       "        text-align: right;\n",
       "    }\n",
       "</style>\n",
       "<table border=\"1\" class=\"dataframe\">\n",
       "  <thead>\n",
       "    <tr style=\"text-align: right;\">\n",
       "      <th></th>\n",
       "      <th>0</th>\n",
       "      <th>1</th>\n",
       "      <th>2</th>\n",
       "      <th>3</th>\n",
       "      <th>4</th>\n",
       "      <th>5</th>\n",
       "      <th>6</th>\n",
       "      <th>7</th>\n",
       "      <th>8</th>\n",
       "      <th>9</th>\n",
       "      <th>...</th>\n",
       "      <th>40</th>\n",
       "      <th>41</th>\n",
       "      <th>42</th>\n",
       "      <th>43</th>\n",
       "      <th>44</th>\n",
       "      <th>45</th>\n",
       "      <th>46</th>\n",
       "      <th>47</th>\n",
       "      <th>48</th>\n",
       "      <th>49</th>\n",
       "    </tr>\n",
       "  </thead>\n",
       "  <tbody>\n",
       "    <tr>\n",
       "      <th>City</th>\n",
       "      <td>Baltimore city</td>\n",
       "      <td>Baltimore city</td>\n",
       "      <td>Baltimore city</td>\n",
       "      <td>Baltimore city</td>\n",
       "      <td>Baltimore city</td>\n",
       "      <td>Cook</td>\n",
       "      <td>Cook</td>\n",
       "      <td>Cook</td>\n",
       "      <td>Cook</td>\n",
       "      <td>Cook</td>\n",
       "      <td>...</td>\n",
       "      <td>Philadelphia</td>\n",
       "      <td>Philadelphia</td>\n",
       "      <td>Philadelphia</td>\n",
       "      <td>Philadelphia</td>\n",
       "      <td>Philadelphia</td>\n",
       "      <td>Wayne</td>\n",
       "      <td>Wayne</td>\n",
       "      <td>Wayne</td>\n",
       "      <td>Wayne</td>\n",
       "      <td>Wayne</td>\n",
       "    </tr>\n",
       "    <tr>\n",
       "      <th>Year</th>\n",
       "      <td>1995</td>\n",
       "      <td>1996</td>\n",
       "      <td>1997</td>\n",
       "      <td>1998</td>\n",
       "      <td>1999</td>\n",
       "      <td>1995</td>\n",
       "      <td>1996</td>\n",
       "      <td>1997</td>\n",
       "      <td>1998</td>\n",
       "      <td>1999</td>\n",
       "      <td>...</td>\n",
       "      <td>1995</td>\n",
       "      <td>1996</td>\n",
       "      <td>1997</td>\n",
       "      <td>1998</td>\n",
       "      <td>1999</td>\n",
       "      <td>1995</td>\n",
       "      <td>1996</td>\n",
       "      <td>1997</td>\n",
       "      <td>1998</td>\n",
       "      <td>1999</td>\n",
       "    </tr>\n",
       "    <tr>\n",
       "      <th>Incident</th>\n",
       "      <td>338</td>\n",
       "      <td>335</td>\n",
       "      <td>318</td>\n",
       "      <td>314</td>\n",
       "      <td>239</td>\n",
       "      <td>823</td>\n",
       "      <td>801</td>\n",
       "      <td>763</td>\n",
       "      <td>738</td>\n",
       "      <td>666</td>\n",
       "      <td>...</td>\n",
       "      <td>445</td>\n",
       "      <td>433</td>\n",
       "      <td>445</td>\n",
       "      <td>347</td>\n",
       "      <td>318</td>\n",
       "      <td>577</td>\n",
       "      <td>512</td>\n",
       "      <td>550</td>\n",
       "      <td>500</td>\n",
       "      <td>504</td>\n",
       "    </tr>\n",
       "  </tbody>\n",
       "</table>\n",
       "<p>3 rows × 50 columns</p>\n",
       "</div>"
      ],
      "text/plain": [
       "                      0               1               2               3   \\\n",
       "City      Baltimore city  Baltimore city  Baltimore city  Baltimore city   \n",
       "Year                1995            1996            1997            1998   \n",
       "Incident             338             335             318             314   \n",
       "\n",
       "                      4     5     6     7     8     9   ...            40  \\\n",
       "City      Baltimore city  Cook  Cook  Cook  Cook  Cook  ...  Philadelphia   \n",
       "Year                1999  1995  1996  1997  1998  1999  ...          1995   \n",
       "Incident             239   823   801   763   738   666  ...           445   \n",
       "\n",
       "                    41            42            43            44     45  \\\n",
       "City      Philadelphia  Philadelphia  Philadelphia  Philadelphia  Wayne   \n",
       "Year              1996          1997          1998          1999   1995   \n",
       "Incident           433           445           347           318    577   \n",
       "\n",
       "             46     47     48     49  \n",
       "City      Wayne  Wayne  Wayne  Wayne  \n",
       "Year       1996   1997   1998   1999  \n",
       "Incident    512    550    500    504  \n",
       "\n",
       "[3 rows x 50 columns]"
      ]
     },
     "execution_count": 1042,
     "metadata": {},
     "output_type": "execute_result"
    }
   ],
   "source": [
    "#Get all incidents information for these top 10 cities\n",
    "merged = pd.merge(df,top_cities['City'], how='inner', left_on='City', right_on='City')\n",
    "\n",
    "#Get incident count per year per city (in chosen years and cities)\n",
    "mask_years = ( merged['Year'] >= 1995 ) & ( merged['Year'] < 2000 )\n",
    "top_10_cities_years = merged[mask_years].groupby(['City','Year'])['Incident'].count().reset_index()\n",
    "top_10_cities_years.T\n"
   ]
  },
  {
   "cell_type": "code",
   "execution_count": 704,
   "metadata": {
    "pycharm": {
     "name": "#%%\n"
    }
   },
   "outputs": [
    {
     "data": {
      "text/plain": [
       "<AxesSubplot:xlabel='Year', ylabel='Incident Count'>"
      ]
     },
     "execution_count": 704,
     "metadata": {},
     "output_type": "execute_result"
    },
    {
     "data": {
      "image/png": "[encoded data removed]",
      "text/plain": [
       "<Figure size 576x576 with 1 Axes>"
      ]
     },
     "metadata": {
      "needs_background": "light"
     },
     "output_type": "display_data"
    }
   ],
   "source": [
    "plt.figure(figsize=(8, 8))\n",
    "plt.ylabel('Incident Count')\n",
    "plt.axis([1995, 1999, 0, 1800])\n",
    "plt.xticks(np.arange(1995,2000,1))\n",
    "sns.lineplot(x='Year', y='Incident', hue='City', data=top_10_cities_years)"
   ]
  },
  {
   "cell_type": "markdown",
   "metadata": {
    "pycharm": {
     "name": "#%% md\n"
    }
   },
   "source": [
    "__Find the states with the longest streak of consecutive yearly increase in incidents.__  \n",
    "Example - If state 1 has the following data:  \n",
    "1990 : 118 incidents  \n",
    "1991 : 112 incidents  \n",
    "1992 : 124 incidents  \n",
    "1993 : 138 incidents  \n",
    "1994 : 103 incidents  \n",
    "Then it has a streak of 2 years from 91 to 93."
   ]
  },
  {
   "cell_type": "code",
   "execution_count": 1043,
   "metadata": {
    "pycharm": {
     "name": "#%%\n"
    }
   },
   "outputs": [],
   "source": [
    "#Note: \n",
    "#looking for longest streak of years, not for largest amount of incidents increase\n",
    "#If more than one streak with same length, keeping the first one\n",
    "def streak_calc(state_incident_list) : \n",
    "    max_streak = 0\n",
    "    current_streak = 0\n",
    "    end_year_index = len(state_incident_list)\n",
    "    \n",
    "    for i in range( 1, len(state_incident_list) ) : \n",
    "        #if current element is bigger, then increase the current streak\n",
    "        if ( state_incident_list[i] > state_incident_list[i-1] ) : \n",
    "            current_streak = current_streak + 1 \n",
    "        #if current streak ended, check if bigger than max we had. Also save position of streak end\n",
    "        else : \n",
    "            if ( max_streak < current_streak ): \n",
    "                max_streak = current_streak \n",
    "                end_year_index = i-1\n",
    "            #reset current\n",
    "            current_streak = 0\n",
    "    #check for last iteration\n",
    "    if ( max_streak < current_streak ): \n",
    "        max_streak = current_streak\n",
    "\n",
    "    return (max_streak, end_year_index)\n",
    "\n",
    "def my_streak_calc(df):\n",
    "    longest_streak, end_year_streak = streak_calc(df['Incident'].values)\n",
    "    calculated_streak = pd.DataFrame([[longest_streak, (end_year_streak - longest_streak)]], columns=['Streak', 'Year Start Index'])\n",
    "    return calculated_streak"
   ]
  },
  {
   "cell_type": "code",
   "execution_count": 1052,
   "metadata": {
    "pycharm": {
     "name": "#%%\n"
    }
   },
   "outputs": [
    {
     "name": "stdout",
     "output_type": "stream",
     "text": [
      "Max streak 6\n"
     ]
    },
    {
     "data": {
      "text/html": [
       "<div>\n",
       "<style scoped>\n",
       "    .dataframe tbody tr th:only-of-type {\n",
       "        vertical-align: middle;\n",
       "    }\n",
       "\n",
       "    .dataframe tbody tr th {\n",
       "        vertical-align: top;\n",
       "    }\n",
       "\n",
       "    .dataframe thead th {\n",
       "        text-align: right;\n",
       "    }\n",
       "</style>\n",
       "<table border=\"1\" class=\"dataframe\">\n",
       "  <thead>\n",
       "    <tr style=\"text-align: right;\">\n",
       "      <th></th>\n",
       "      <th>State</th>\n",
       "      <th>Streak</th>\n",
       "      <th>Year Start Index</th>\n",
       "    </tr>\n",
       "  </thead>\n",
       "  <tbody>\n",
       "    <tr>\n",
       "      <th>20</th>\n",
       "      <td>Maryland</td>\n",
       "      <td>6</td>\n",
       "      <td>7</td>\n",
       "    </tr>\n",
       "    <tr>\n",
       "      <th>46</th>\n",
       "      <td>Virginia</td>\n",
       "      <td>6</td>\n",
       "      <td>5</td>\n",
       "    </tr>\n",
       "    <tr>\n",
       "      <th>2</th>\n",
       "      <td>Arizona</td>\n",
       "      <td>6</td>\n",
       "      <td>9</td>\n",
       "    </tr>\n",
       "    <tr>\n",
       "      <th>8</th>\n",
       "      <td>District of Columbia</td>\n",
       "      <td>6</td>\n",
       "      <td>5</td>\n",
       "    </tr>\n",
       "  </tbody>\n",
       "</table>\n",
       "</div>"
      ],
      "text/plain": [
       "                   State  Streak  Year Start Index\n",
       "20              Maryland       6                 7\n",
       "46              Virginia       6                 5\n",
       "2                Arizona       6                 9\n",
       "8   District of Columbia       6                 5"
      ]
     },
     "execution_count": 1052,
     "metadata": {},
     "output_type": "execute_result"
    }
   ],
   "source": [
    "streaks_states = df.groupby(['State','Year'])['Incident'].count().reset_index().sort_values(by=['State','Year','Incident'])\n",
    "\n",
    "#split by groups of states and apply streak calculation\n",
    "streaks_data = streaks_states.groupby('State').apply(my_streak_calc)\n",
    "streaks_data = streaks_data.reset_index().drop(columns=['level_1'])\n",
    "streaks_data = streaks_data.sort_values('Streak', ascending = False)\n",
    "\n",
    "print('Max streak', streaks_data['Streak'].max())\n",
    "#Keep the ones that have max value\n",
    "streaks_data = streaks_data.head(4)\n",
    "streaks_data"
   ]
  },
  {
   "cell_type": "markdown",
   "metadata": {
    "pycharm": {
     "name": "#%% md\n"
    }
   },
   "source": [
    "__Display a bar count for each of the states you found (Use one figure, but a different axes for each state). x axis should be years and y axis the count of incidents.__"
   ]
  },
  {
   "cell_type": "code",
   "execution_count": 1055,
   "metadata": {
    "pycharm": {
     "name": "#%%\n"
    }
   },
   "outputs": [
    {
     "data": {
      "image/png": "[encoded data removed]",
      "text/plain": [
       "<Figure size 576x576 with 4 Axes>"
      ]
     },
     "metadata": {
      "needs_background": "light"
     },
     "output_type": "display_data"
    }
   ],
   "source": [
    "figure = plt.figure(figsize=(8,8))\n",
    "colors = 'rygb' #4 selected states, one colour each\n",
    "for i in range( len( streaks_data['State'] ) ):\n",
    "    #For each state in streak list, get the start year and build data with incidents count and years from start for a period of found streak length\n",
    "    mask_state = streaks_states['State'] == streaks_data.iloc[i]['State']\n",
    "    start_year_index = streaks_data.iloc[i]['Year Start Index']\n",
    "    state_data = streaks_states[mask_state].iloc[ start_year_index:start_year_index+streaks_data.iloc[i]['Streak']+1 ]\n",
    "\n",
    "    plt.subplot(2, 2, i+1) #4 selected states, 1 subplot each\n",
    "    plt.bar(x=state_data['Year'].values , height=state_data['Incident'].values, color=colors[i] )\n",
    "    plt.title( streaks_data.iloc[i]['State']+' Streak' )\n",
    "    plt.xlabel('Years') \n",
    "    plt.ylabel('Incidents Count') \n",
    "    plt.xticks(state_data['Year'].values)\n",
    "figure.tight_layout(pad=3.0)\n"
   ]
  },
  {
   "cell_type": "markdown",
   "metadata": {
    "pycharm": {
     "name": "#%% md\n"
    }
   },
   "source": [
    "__Plot 2 histograms of `Perpetrator Age`, side by side, one for the males and one for the females.__   \n",
    "Choose the number of bins you see fit."
   ]
  },
  {
   "cell_type": "code",
   "execution_count": 1057,
   "metadata": {
    "pycharm": {
     "name": "#%%\n"
    }
   },
   "outputs": [
    {
     "data": {
      "text/plain": [
       "Perpetrator Age  Perpetrator Sex\n",
       "0                Female                979\n",
       "                 Male                25022\n",
       "                 Unknown            185078\n",
       "1                Female                  2\n",
       "                 Male                   14\n",
       "                                     ...  \n",
       "92               Male                    1\n",
       "93               Male                    1\n",
       "95               Male                    1\n",
       "99               Male                    1\n",
       "                 Unknown                 2\n",
       "Name: Perpetrator Age, Length: 435, dtype: int64"
      ]
     },
     "execution_count": 1057,
     "metadata": {},
     "output_type": "execute_result"
    }
   ],
   "source": [
    "df.groupby(['Perpetrator Age','Perpetrator Sex'])['Perpetrator Age'].count()\n",
    "#There are Unknown Perpetrator Sex, not considering them.\n",
    "#Many perpetrators with age 0, to discard\n",
    "#Also, some perpetrators under age 10, will discard them as well due to possibly wrong data"
   ]
  },
  {
   "cell_type": "code",
   "execution_count": 1058,
   "metadata": {
    "pycharm": {
     "name": "#%%\n"
    }
   },
   "outputs": [
    {
     "data": {
      "text/html": [
       "<div>\n",
       "<style scoped>\n",
       "    .dataframe tbody tr th:only-of-type {\n",
       "        vertical-align: middle;\n",
       "    }\n",
       "\n",
       "    .dataframe tbody tr th {\n",
       "        vertical-align: top;\n",
       "    }\n",
       "\n",
       "    .dataframe thead th {\n",
       "        text-align: right;\n",
       "    }\n",
       "</style>\n",
       "<table border=\"1\" class=\"dataframe\">\n",
       "  <thead>\n",
       "    <tr style=\"text-align: right;\">\n",
       "      <th></th>\n",
       "      <th>Agency Name</th>\n",
       "      <th>Agency Type</th>\n",
       "      <th>City</th>\n",
       "      <th>State</th>\n",
       "      <th>Year</th>\n",
       "      <th>Month</th>\n",
       "      <th>Incident</th>\n",
       "      <th>Crime Type</th>\n",
       "      <th>Crime Solved</th>\n",
       "      <th>Victim Sex</th>\n",
       "      <th>...</th>\n",
       "      <th>Victim Ethnicity</th>\n",
       "      <th>Perpetrator Sex</th>\n",
       "      <th>Perpetrator Age</th>\n",
       "      <th>Perpetrator Race</th>\n",
       "      <th>Perpetrator Ethnicity</th>\n",
       "      <th>Relationship</th>\n",
       "      <th>Weapon</th>\n",
       "      <th>Victim Count</th>\n",
       "      <th>Perpetrator Count</th>\n",
       "      <th>Record Source</th>\n",
       "    </tr>\n",
       "  </thead>\n",
       "  <tbody>\n",
       "    <tr>\n",
       "      <th>0</th>\n",
       "      <td>Anchorage</td>\n",
       "      <td>Municipal Police</td>\n",
       "      <td>Anchorage</td>\n",
       "      <td>Alaska</td>\n",
       "      <td>1980</td>\n",
       "      <td>January</td>\n",
       "      <td>1</td>\n",
       "      <td>Murder or Manslaughter</td>\n",
       "      <td>Yes</td>\n",
       "      <td>Male</td>\n",
       "      <td>...</td>\n",
       "      <td>Unknown</td>\n",
       "      <td>Male</td>\n",
       "      <td>15</td>\n",
       "      <td>Native American/Alaska Native</td>\n",
       "      <td>Unknown</td>\n",
       "      <td>Acquaintance</td>\n",
       "      <td>Blunt Object</td>\n",
       "      <td>0</td>\n",
       "      <td>0</td>\n",
       "      <td>FBI</td>\n",
       "    </tr>\n",
       "    <tr>\n",
       "      <th>1</th>\n",
       "      <td>Anchorage</td>\n",
       "      <td>Municipal Police</td>\n",
       "      <td>Anchorage</td>\n",
       "      <td>Alaska</td>\n",
       "      <td>1980</td>\n",
       "      <td>March</td>\n",
       "      <td>1</td>\n",
       "      <td>Murder or Manslaughter</td>\n",
       "      <td>Yes</td>\n",
       "      <td>Male</td>\n",
       "      <td>...</td>\n",
       "      <td>Unknown</td>\n",
       "      <td>Male</td>\n",
       "      <td>42</td>\n",
       "      <td>White</td>\n",
       "      <td>Unknown</td>\n",
       "      <td>Acquaintance</td>\n",
       "      <td>Strangulation</td>\n",
       "      <td>0</td>\n",
       "      <td>0</td>\n",
       "      <td>FBI</td>\n",
       "    </tr>\n",
       "    <tr>\n",
       "      <th>3</th>\n",
       "      <td>Anchorage</td>\n",
       "      <td>Municipal Police</td>\n",
       "      <td>Anchorage</td>\n",
       "      <td>Alaska</td>\n",
       "      <td>1980</td>\n",
       "      <td>April</td>\n",
       "      <td>1</td>\n",
       "      <td>Murder or Manslaughter</td>\n",
       "      <td>Yes</td>\n",
       "      <td>Male</td>\n",
       "      <td>...</td>\n",
       "      <td>Unknown</td>\n",
       "      <td>Male</td>\n",
       "      <td>42</td>\n",
       "      <td>White</td>\n",
       "      <td>Unknown</td>\n",
       "      <td>Acquaintance</td>\n",
       "      <td>Strangulation</td>\n",
       "      <td>0</td>\n",
       "      <td>0</td>\n",
       "      <td>FBI</td>\n",
       "    </tr>\n",
       "    <tr>\n",
       "      <th>5</th>\n",
       "      <td>Anchorage</td>\n",
       "      <td>Municipal Police</td>\n",
       "      <td>Anchorage</td>\n",
       "      <td>Alaska</td>\n",
       "      <td>1980</td>\n",
       "      <td>May</td>\n",
       "      <td>1</td>\n",
       "      <td>Murder or Manslaughter</td>\n",
       "      <td>Yes</td>\n",
       "      <td>Male</td>\n",
       "      <td>...</td>\n",
       "      <td>Unknown</td>\n",
       "      <td>Male</td>\n",
       "      <td>36</td>\n",
       "      <td>White</td>\n",
       "      <td>Unknown</td>\n",
       "      <td>Acquaintance</td>\n",
       "      <td>Rifle</td>\n",
       "      <td>0</td>\n",
       "      <td>0</td>\n",
       "      <td>FBI</td>\n",
       "    </tr>\n",
       "    <tr>\n",
       "      <th>6</th>\n",
       "      <td>Anchorage</td>\n",
       "      <td>Municipal Police</td>\n",
       "      <td>Anchorage</td>\n",
       "      <td>Alaska</td>\n",
       "      <td>1980</td>\n",
       "      <td>May</td>\n",
       "      <td>2</td>\n",
       "      <td>Murder or Manslaughter</td>\n",
       "      <td>Yes</td>\n",
       "      <td>Female</td>\n",
       "      <td>...</td>\n",
       "      <td>Unknown</td>\n",
       "      <td>Male</td>\n",
       "      <td>27</td>\n",
       "      <td>Black</td>\n",
       "      <td>Unknown</td>\n",
       "      <td>Wife</td>\n",
       "      <td>Knife</td>\n",
       "      <td>0</td>\n",
       "      <td>0</td>\n",
       "      <td>FBI</td>\n",
       "    </tr>\n",
       "  </tbody>\n",
       "</table>\n",
       "<p>5 rows × 22 columns</p>\n",
       "</div>"
      ],
      "text/plain": [
       "  Agency Name       Agency Type       City   State  Year    Month  Incident  \\\n",
       "0   Anchorage  Municipal Police  Anchorage  Alaska  1980  January         1   \n",
       "1   Anchorage  Municipal Police  Anchorage  Alaska  1980    March         1   \n",
       "3   Anchorage  Municipal Police  Anchorage  Alaska  1980    April         1   \n",
       "5   Anchorage  Municipal Police  Anchorage  Alaska  1980      May         1   \n",
       "6   Anchorage  Municipal Police  Anchorage  Alaska  1980      May         2   \n",
       "\n",
       "               Crime Type Crime Solved Victim Sex  ...  Victim Ethnicity  \\\n",
       "0  Murder or Manslaughter          Yes       Male  ...           Unknown   \n",
       "1  Murder or Manslaughter          Yes       Male  ...           Unknown   \n",
       "3  Murder or Manslaughter          Yes       Male  ...           Unknown   \n",
       "5  Murder or Manslaughter          Yes       Male  ...           Unknown   \n",
       "6  Murder or Manslaughter          Yes     Female  ...           Unknown   \n",
       "\n",
       "  Perpetrator Sex Perpetrator Age               Perpetrator Race  \\\n",
       "0            Male              15  Native American/Alaska Native   \n",
       "1            Male              42                          White   \n",
       "3            Male              42                          White   \n",
       "5            Male              36                          White   \n",
       "6            Male              27                          Black   \n",
       "\n",
       "  Perpetrator Ethnicity  Relationship         Weapon Victim Count  \\\n",
       "0               Unknown  Acquaintance   Blunt Object            0   \n",
       "1               Unknown  Acquaintance  Strangulation            0   \n",
       "3               Unknown  Acquaintance  Strangulation            0   \n",
       "5               Unknown  Acquaintance          Rifle            0   \n",
       "6               Unknown          Wife          Knife            0   \n",
       "\n",
       "  Perpetrator Count  Record Source  \n",
       "0                 0            FBI  \n",
       "1                 0            FBI  \n",
       "3                 0            FBI  \n",
       "5                 0            FBI  \n",
       "6                 0            FBI  \n",
       "\n",
       "[5 rows x 22 columns]"
      ]
     },
     "execution_count": 1058,
     "metadata": {},
     "output_type": "execute_result"
    }
   ],
   "source": [
    "mask_unknown = ( df['Perpetrator Sex'] != 'Unknown' )\n",
    "mask_age = ( pd.to_numeric(df['Perpetrator Age'], errors='coerce').dropna().astype(int) > 10 )\n",
    "clean_perpetrators = df[mask_unknown & mask_age]\n",
    "clean_perpetrators.head(5)"
   ]
  },
  {
   "cell_type": "code",
   "execution_count": 1061,
   "metadata": {
    "pycharm": {
     "name": "#%%\n"
    }
   },
   "outputs": [
    {
     "name": "stdout",
     "output_type": "stream",
     "text": [
      "Male perpetrators max/min age is : 11 / 99\n",
      "Female perpetrators max/min age is : 11 / 99\n"
     ]
    }
   ],
   "source": [
    "mask_male = ( clean_perpetrators['Perpetrator Sex'] == 'Male' )\n",
    "mask_female = ( clean_perpetrators['Perpetrator Sex'] == 'Female' )\n",
    "male_perpetrators = clean_perpetrators[mask_male]['Perpetrator Age'].astype(int)\n",
    "female_perpetrators = clean_perpetrators[mask_female]['Perpetrator Age'].astype(int)\n",
    "\n",
    "print('Male perpetrators max/min age is :', min(male_perpetrators.values),'/', max(male_perpetrators.values))\n",
    "print('Female perpetrators max/min age is :', min(female_perpetrators.values),'/', max(female_perpetrators.values))\n"
   ]
  },
  {
   "cell_type": "code",
   "execution_count": 1062,
   "metadata": {
    "pycharm": {
     "name": "#%%\n"
    }
   },
   "outputs": [
    {
     "data": {
      "text/plain": [
       "Text(0, 0.5, 'Amount of perpetrators')"
      ]
     },
     "execution_count": 1062,
     "metadata": {},
     "output_type": "execute_result"
    },
    {
     "data": {
      "image/png": "[encoded data removed]",
      "text/plain": [
       "<Figure size 864x216 with 2 Axes>"
      ]
     },
     "metadata": {
      "needs_background": "light"
     },
     "output_type": "display_data"
    }
   ],
   "source": [
    "#histograms using equally distributed bins within the possible Perpetrator Age\n",
    "figure = plt.figure(figsize=(12,3))\n",
    "plt.subplot(1, 2, 1) \n",
    "bins = np.arange(10,101,10)\n",
    "plt.xticks(bins)\n",
    "plt.hist(male_perpetrators, bins=bins, color='y', edgecolor='black')\n",
    "plt.title( 'Male Perpetrators Age Distribution' ) \n",
    "plt.xlabel('Age') \n",
    "plt.ylabel('Amount of perpetrators')\n",
    "\n",
    "plt.subplot(1, 2, 2) \n",
    "bins = np.arange(10,101,10)\n",
    "plt.xticks(bins)\n",
    "plt.hist(female_perpetrators, bins=bins, color='r', edgecolor='black')\n",
    "plt.title( 'Female Perpetrators Age Distribution' ) \n",
    "plt.xlabel('Age') \n",
    "plt.ylabel('Amount of perpetrators')"
   ]
  },
  {
   "cell_type": "markdown",
   "metadata": {
    "pycharm": {
     "name": "#%% md\n"
    }
   },
   "source": [
    "__For each year, find the probability of solving a crime on that year. (number of solved / number of cases). Plot a line plot of the probability you found. x should be years and y the probability.__"
   ]
  },
  {
   "cell_type": "code",
   "execution_count": 1063,
   "metadata": {
    "pycharm": {
     "name": "#%%\n"
    }
   },
   "outputs": [
    {
     "data": {
      "text/html": [
       "<div>\n",
       "<style scoped>\n",
       "    .dataframe tbody tr th:only-of-type {\n",
       "        vertical-align: middle;\n",
       "    }\n",
       "\n",
       "    .dataframe tbody tr th {\n",
       "        vertical-align: top;\n",
       "    }\n",
       "\n",
       "    .dataframe thead th {\n",
       "        text-align: right;\n",
       "    }\n",
       "</style>\n",
       "<table border=\"1\" class=\"dataframe\">\n",
       "  <thead>\n",
       "    <tr style=\"text-align: right;\">\n",
       "      <th></th>\n",
       "      <th>count</th>\n",
       "      <th>count_solved</th>\n",
       "      <th>prob_solved</th>\n",
       "    </tr>\n",
       "    <tr>\n",
       "      <th>Year</th>\n",
       "      <th></th>\n",
       "      <th></th>\n",
       "      <th></th>\n",
       "    </tr>\n",
       "  </thead>\n",
       "  <tbody>\n",
       "    <tr>\n",
       "      <th>1980</th>\n",
       "      <td>23092</td>\n",
       "      <td>16729</td>\n",
       "      <td>0.724450</td>\n",
       "    </tr>\n",
       "    <tr>\n",
       "      <th>1981</th>\n",
       "      <td>21208</td>\n",
       "      <td>15788</td>\n",
       "      <td>0.744436</td>\n",
       "    </tr>\n",
       "    <tr>\n",
       "      <th>1982</th>\n",
       "      <td>20544</td>\n",
       "      <td>15060</td>\n",
       "      <td>0.733061</td>\n",
       "    </tr>\n",
       "    <tr>\n",
       "      <th>1983</th>\n",
       "      <td>19653</td>\n",
       "      <td>14515</td>\n",
       "      <td>0.738564</td>\n",
       "    </tr>\n",
       "    <tr>\n",
       "      <th>1984</th>\n",
       "      <td>18093</td>\n",
       "      <td>13245</td>\n",
       "      <td>0.732051</td>\n",
       "    </tr>\n",
       "  </tbody>\n",
       "</table>\n",
       "</div>"
      ],
      "text/plain": [
       "      count  count_solved  prob_solved\n",
       "Year                                  \n",
       "1980  23092         16729     0.724450\n",
       "1981  21208         15788     0.744436\n",
       "1982  20544         15060     0.733061\n",
       "1983  19653         14515     0.738564\n",
       "1984  18093         13245     0.732051"
      ]
     },
     "execution_count": 1063,
     "metadata": {},
     "output_type": "execute_result"
    }
   ],
   "source": [
    "yearly_solved_crimes = df.groupby(['Year'])['Crime Solved'].agg( [ 'count', ('count_solved', lambda x: (x=='Yes').sum() ) ])\n",
    "yearly_solved_crimes['prob_solved'] = yearly_solved_crimes['count_solved'] / yearly_solved_crimes['count']\n",
    "yearly_solved_crimes.head()"
   ]
  },
  {
   "cell_type": "code",
   "execution_count": 1064,
   "metadata": {
    "pycharm": {
     "name": "#%%\n"
    }
   },
   "outputs": [
    {
     "data": {
      "text/plain": [
       "[<matplotlib.lines.Line2D at 0x1eb200bb0>]"
      ]
     },
     "execution_count": 1064,
     "metadata": {},
     "output_type": "execute_result"
    },
    {
     "data": {
      "image/png": "[encoded data removed]",
      "text/plain": [
       "<Figure size 1080x360 with 1 Axes>"
      ]
     },
     "metadata": {
      "needs_background": "light"
     },
     "output_type": "display_data"
    }
   ],
   "source": [
    "plt.figure(figsize=(15, 5))\n",
    "plt.xticks(yearly_solved_crimes.index, rotation=90)\n",
    "plt.title('Probability of solving a crime each year') \n",
    "plt.xlabel('Year') \n",
    "plt.ylabel('Probability')\n",
    "plt.plot(yearly_solved_crimes.index, yearly_solved_crimes['prob_solved'])"
   ]
  },
  {
   "cell_type": "markdown",
   "metadata": {
    "pycharm": {
     "name": "#%% md\n"
    }
   },
   "source": [
    "__Add another column to the dataframe - `age group`. The value for each row in that column should be the index bin of the `victim age`. We will use 5 bins [0,20], [40, 60] ... [80, 100]. For example, if `victim age` is 12 the value will be 0. If  `victim age` is 42 the value will be 2.\n",
    "Plot a bar graph of weapon count for each group. Use a single figure and a single axes for the plot.__"
   ]
  },
  {
   "cell_type": "code",
   "execution_count": 1065,
   "metadata": {
    "pycharm": {
     "name": "#%%\n"
    }
   },
   "outputs": [
    {
     "data": {
      "text/plain": [
       "(array([637480.,      0.,      0.,      0.,      0.,      0.,      0.,\n",
       "             0.,      0.,    974.]),\n",
       " array([  0. ,  99.8, 199.6, 299.4, 399.2, 499. , 598.8, 698.6, 798.4,\n",
       "        898.2, 998. ]),\n",
       " <BarContainer object of 10 artists>)"
      ]
     },
     "execution_count": 1065,
     "metadata": {},
     "output_type": "execute_result"
    },
    {
     "data": {
      "image/png": "[encoded data removed]",
      "text/plain": [
       "<Figure size 432x288 with 1 Axes>"
      ]
     },
     "metadata": {
      "needs_background": "light"
     },
     "output_type": "display_data"
    }
   ],
   "source": [
    "plt.hist(df['Victim Age'])\n",
    "#There are some inconsisten Age values, will not consider them for analysis"
   ]
  },
  {
   "cell_type": "code",
   "execution_count": 1066,
   "metadata": {
    "pycharm": {
     "name": "#%%\n"
    }
   },
   "outputs": [],
   "source": [
    "bins_victim_steps = [20,40,60,80,100] #define 5 groups, if age is bigger than 100, assign 'NA' group\n",
    "def assign_age_group(row):\n",
    "    if ( row['Victim Age'] <= bins_victim_steps[0] ):\n",
    "        return 0\n",
    "    elif ( row['Victim Age'] <= bins_victim_steps[1] ):\n",
    "        return 1\n",
    "    elif ( row['Victim Age'] <= bins_victim_steps[2] ):\n",
    "        return 2\n",
    "    elif ( row['Victim Age'] <= bins_victim_steps[3] ):\n",
    "        return 3\n",
    "    elif ( row['Victim Age'] <= bins_victim_steps[4] ):\n",
    "        return 4\n",
    "    else:\n",
    "        return 'NA'\n",
    "\n",
    "df['Age Group'] = df.apply(assign_age_group, axis='columns')"
   ]
  },
  {
   "cell_type": "code",
   "execution_count": 1067,
   "metadata": {
    "pycharm": {
     "name": "#%%\n"
    }
   },
   "outputs": [
    {
     "data": {
      "text/html": [
       "<div>\n",
       "<style scoped>\n",
       "    .dataframe tbody tr th:only-of-type {\n",
       "        vertical-align: middle;\n",
       "    }\n",
       "\n",
       "    .dataframe tbody tr th {\n",
       "        vertical-align: top;\n",
       "    }\n",
       "\n",
       "    .dataframe thead th {\n",
       "        text-align: right;\n",
       "    }\n",
       "</style>\n",
       "<table border=\"1\" class=\"dataframe\">\n",
       "  <thead>\n",
       "    <tr style=\"text-align: right;\">\n",
       "      <th></th>\n",
       "      <th>Weapon</th>\n",
       "      <th>Age Group</th>\n",
       "      <th>weapon_count</th>\n",
       "    </tr>\n",
       "  </thead>\n",
       "  <tbody>\n",
       "    <tr>\n",
       "      <th>0</th>\n",
       "      <td>Blunt Object</td>\n",
       "      <td>0</td>\n",
       "      <td>17086</td>\n",
       "    </tr>\n",
       "    <tr>\n",
       "      <th>1</th>\n",
       "      <td>Blunt Object</td>\n",
       "      <td>1</td>\n",
       "      <td>22540</td>\n",
       "    </tr>\n",
       "    <tr>\n",
       "      <th>2</th>\n",
       "      <td>Blunt Object</td>\n",
       "      <td>2</td>\n",
       "      <td>16454</td>\n",
       "    </tr>\n",
       "    <tr>\n",
       "      <th>3</th>\n",
       "      <td>Blunt Object</td>\n",
       "      <td>3</td>\n",
       "      <td>7695</td>\n",
       "    </tr>\n",
       "    <tr>\n",
       "      <th>4</th>\n",
       "      <td>Blunt Object</td>\n",
       "      <td>4</td>\n",
       "      <td>3470</td>\n",
       "    </tr>\n",
       "    <tr>\n",
       "      <th>6</th>\n",
       "      <td>Drowning</td>\n",
       "      <td>0</td>\n",
       "      <td>797</td>\n",
       "    </tr>\n",
       "    <tr>\n",
       "      <th>7</th>\n",
       "      <td>Drowning</td>\n",
       "      <td>1</td>\n",
       "      <td>265</td>\n",
       "    </tr>\n",
       "    <tr>\n",
       "      <th>8</th>\n",
       "      <td>Drowning</td>\n",
       "      <td>2</td>\n",
       "      <td>84</td>\n",
       "    </tr>\n",
       "    <tr>\n",
       "      <th>9</th>\n",
       "      <td>Drowning</td>\n",
       "      <td>3</td>\n",
       "      <td>26</td>\n",
       "    </tr>\n",
       "    <tr>\n",
       "      <th>10</th>\n",
       "      <td>Drowning</td>\n",
       "      <td>4</td>\n",
       "      <td>31</td>\n",
       "    </tr>\n",
       "    <tr>\n",
       "      <th>12</th>\n",
       "      <td>Drugs</td>\n",
       "      <td>0</td>\n",
       "      <td>489</td>\n",
       "    </tr>\n",
       "    <tr>\n",
       "      <th>13</th>\n",
       "      <td>Drugs</td>\n",
       "      <td>1</td>\n",
       "      <td>642</td>\n",
       "    </tr>\n",
       "    <tr>\n",
       "      <th>14</th>\n",
       "      <td>Drugs</td>\n",
       "      <td>2</td>\n",
       "      <td>256</td>\n",
       "    </tr>\n",
       "    <tr>\n",
       "      <th>15</th>\n",
       "      <td>Drugs</td>\n",
       "      <td>3</td>\n",
       "      <td>110</td>\n",
       "    </tr>\n",
       "    <tr>\n",
       "      <th>16</th>\n",
       "      <td>Drugs</td>\n",
       "      <td>4</td>\n",
       "      <td>84</td>\n",
       "    </tr>\n",
       "  </tbody>\n",
       "</table>\n",
       "</div>"
      ],
      "text/plain": [
       "          Weapon Age Group  weapon_count\n",
       "0   Blunt Object         0         17086\n",
       "1   Blunt Object         1         22540\n",
       "2   Blunt Object         2         16454\n",
       "3   Blunt Object         3          7695\n",
       "4   Blunt Object         4          3470\n",
       "6       Drowning         0           797\n",
       "7       Drowning         1           265\n",
       "8       Drowning         2            84\n",
       "9       Drowning         3            26\n",
       "10      Drowning         4            31\n",
       "12         Drugs         0           489\n",
       "13         Drugs         1           642\n",
       "14         Drugs         2           256\n",
       "15         Drugs         3           110\n",
       "16         Drugs         4            84"
      ]
     },
     "execution_count": 1067,
     "metadata": {},
     "output_type": "execute_result"
    }
   ],
   "source": [
    "weapon_group_age = df.groupby(['Weapon','Age Group'])['Age Group'].count().reset_index(name=\"weapon_count\")\n",
    "#do not use NA (inconsistent age >100)\n",
    "mask_age = weapon_group_age['Age Group'] != 'NA'\n",
    "weapon_group_age = weapon_group_age[mask_age]\n",
    "weapon_group_age.head(15)"
   ]
  },
  {
   "cell_type": "code",
   "execution_count": 1088,
   "metadata": {
    "pycharm": {
     "name": "#%%\n"
    }
   },
   "outputs": [
    {
     "data": {
      "text/plain": [
       "<AxesSubplot:title={'center':'Weapon count per victim age group'}, xlabel='Age Group', ylabel='weapon_count'>"
      ]
     },
     "execution_count": 1088,
     "metadata": {},
     "output_type": "execute_result"
    },
    {
     "data": {
      "image/png": "[encoded data removed]",
      "text/plain": [
       "<Figure size 1080x720 with 1 Axes>"
      ]
     },
     "metadata": {
      "needs_background": "light"
     },
     "output_type": "display_data"
    }
   ],
   "source": [
    "plt.figure(figsize=(15, 10))\n",
    "plt.title('Weapon count per victim age group') \n",
    "plt.xlabel('Weapon') \n",
    "plt.ylabel('Count incidents')\n",
    "sns.barplot(x='Age Group', y='weapon_count', hue='Weapon', data=weapon_group_age)"
   ]
  },
  {
   "cell_type": "code",
   "execution_count": 1101,
   "metadata": {
    "pycharm": {
     "name": "#%%\n"
    }
   },
   "outputs": [
    {
     "data": {
      "text/plain": [
       "<matplotlib.axes._axes.Axes at 0x22cc8e430>"
      ]
     },
     "execution_count": 1101,
     "metadata": {},
     "output_type": "execute_result"
    },
    {
     "data": {
      "image/png": "[encoded data removed]",
      "text/plain": [
       "<Figure size 864x288 with 2 Axes>"
      ]
     },
     "metadata": {
      "needs_background": "light"
     },
     "output_type": "display_data"
    }
   ],
   "source": [
    "#There are too many handgun and knife cases, will remove from plot to be able to appreciate distribution for other weapons\n",
    "plt.figure(figsize=(12, 4))\n",
    "ax1 = plt.axes([0, 0, 0.7, 1])\n",
    "plt.xticks(rotation=90)\n",
    "plt.title('Weapon count per victim age group (exclude handgun/knife)') \n",
    "plt.xlabel('Weapon') \n",
    "plt.ylabel('Count incidents')\n",
    "sns.barplot(x='Age Group', y='weapon_count', hue='Weapon', data=weapon_group_age[ (weapon_group_age['Weapon'] != 'Handgun') & (weapon_group_age['Weapon'] != 'Knife') ])\n",
    "\n",
    "ax2 = plt.axes([0.8, 0, 0.2, 1])\n",
    "plt.title('Handgun/Knife crime count per victim age group') \n",
    "plt.xlabel('Weapon') \n",
    "plt.ylabel('Count incidents')\n",
    "sns.barplot(x='Age Group', y='weapon_count', hue='Weapon', data=weapon_group_age[ (weapon_group_age['Weapon'] == 'Handgun') | (weapon_group_age['Weapon'] == 'Knife') ])"
   ]
  },
  {
   "cell_type": "markdown",
   "metadata": {
    "pycharm": {
     "name": "#%% md\n"
    }
   },
   "source": [
    "## Playing detective\n",
    "In the following section you will need to help the police in deciding where they should focus their efforts on. They have 2 cases but they only have the man power to handle one. So, they want to focus on the one with the highest probability of solving. Here is what they know about each case:\n",
    "- Case 1 : A female aged 36 which was killed using a knife. \n",
    "- Case 2 : A male aged 20 which was killed using a handgun.\n",
    "\n",
    "Here is how we are going to approach the problem : We will compute the conditional probability of each one of the features - `Victim Sex`, `Victim Age` and `Weapon` under 2 options in the Crime Solved columns (yes, no).  \n",
    "This is a pretty simple procedure. For example, To compute $p(weapon|solved)$ all we have to do is look only at the rows with `Crime solved == Yes` count each weapon and divide by the total number of rows we used. Then we could use this to get $p(weapon=knife|solved)$ and  $p(weapon=handgun|solved)$ (Basically if I asked you what is the probability of using a knife you will count how many times a knife was used and divide it by the number of incidents).  \n",
    "Once we have those probabilities we will compute $p(female, 36, knife |solved) = p(female|solved) \\cdot p(36|solved) \\cdot p(knife |solved)$, by assuming that our features are independent. As you will see in the machine learning course this is referred to as the the Naive Bayes assumption."
   ]
  },
  {
   "cell_type": "markdown",
   "metadata": {
    "pycharm": {
     "name": "#%% md\n"
    }
   },
   "source": [
    "__Split the dataframe into solved / unsolved.__"
   ]
  },
  {
   "cell_type": "code",
   "execution_count": 1071,
   "metadata": {
    "pycharm": {
     "name": "#%%\n"
    }
   },
   "outputs": [],
   "source": [
    "solved_crimes = df[ (df['Crime Solved'] == 'Yes') ]\n",
    "unsolved_crimes = df[ (df['Crime Solved'] == 'No') ]\n"
   ]
  },
  {
   "cell_type": "markdown",
   "metadata": {
    "pycharm": {
     "name": "#%% md\n"
    }
   },
   "source": [
    "__Compute the probability of our each of the features, for each of the dataset separately.  When you complete this task then you computed p(weapon| solved), p(age |solved) , p(victim sex|solved) and p(weapon|unsolved), p(age |unsolved) , p(victim sex|unsolved)__  \n"
   ]
  },
  {
   "cell_type": "code",
   "execution_count": 1072,
   "metadata": {
    "pycharm": {
     "name": "#%%\n"
    }
   },
   "outputs": [
    {
     "name": "stdout",
     "output_type": "stream",
     "text": [
      "             count      prob\n",
      "Victim Sex                  \n",
      "Female      110269  0.246042\n",
      "Male        337572  0.753220\n",
      "Unknown        331  0.000739\n",
      "            count      prob\n",
      "Victim Age                 \n",
      "0            7419  0.016568\n",
      "1            5005  0.011177\n",
      "2            3485  0.007782\n",
      "3            2156  0.004815\n",
      "4            1488  0.003323\n",
      "              count      prob\n",
      "Weapon                       \n",
      "Blunt Object  51504  0.114920\n",
      "Drowning        999  0.002229\n",
      "Drugs          1396  0.003115\n",
      "Explosives      388  0.000866\n",
      "Fall            166  0.000370\n"
     ]
    }
   ],
   "source": [
    "#Solved probabilites\n",
    "\n",
    "#keeping Unknown sex victims for count\n",
    "solved_victim_sex = solved_crimes.groupby('Victim Sex')['Victim Sex'].agg(['count'])\n",
    "solved_victim_sex['prob'] = solved_victim_sex/solved_victim_sex.sum()\n",
    "\n",
    "#remove age 998 that was inconsistent\n",
    "age_mask = ( solved_crimes['Victim Age'] != 998 ) \n",
    "solved_victim_age = solved_crimes[age_mask].groupby('Victim Age')['Victim Age'].agg(['count'])\n",
    "solved_victim_age['prob'] = solved_victim_age/solved_victim_age.sum()\n",
    "\n",
    "#Keeping unknown weapons\n",
    "solved_weapon = solved_crimes.groupby('Weapon')['Weapon'].agg(['count'])\n",
    "solved_weapon['prob'] = solved_weapon/solved_weapon.sum()\n",
    "\n",
    "print( solved_victim_sex )\n",
    "print(solved_victim_age.head())\n",
    "print( solved_weapon.head() )\n"
   ]
  },
  {
   "cell_type": "code",
   "execution_count": 1074,
   "metadata": {
    "pycharm": {
     "name": "#%%\n"
    }
   },
   "outputs": [
    {
     "name": "stdout",
     "output_type": "stream",
     "text": [
      "             count      prob\n",
      "Victim Sex                  \n",
      "Female       33076  0.173826\n",
      "Male        156553  0.822742\n",
      "Unknown        653  0.003432\n",
      "            count      prob\n",
      "Victim Age                 \n",
      "0            1025  0.005404\n",
      "1             520  0.002742\n",
      "2             320  0.001687\n",
      "3             222  0.001170\n",
      "4             171  0.000902\n",
      "              count      prob\n",
      "Weapon                       \n",
      "Blunt Object  15833  0.083208\n",
      "Drowning        205  0.001077\n",
      "Drugs           192  0.001009\n",
      "Explosives      149  0.000783\n",
      "Fall             24  0.000126\n"
     ]
    }
   ],
   "source": [
    "# Un Solved probabilites\n",
    "\n",
    "#keeping Unknown sex victims for count\n",
    "unsolved_victim_sex = unsolved_crimes.groupby('Victim Sex')['Victim Sex'].agg(['count'])\n",
    "unsolved_victim_sex['prob'] = unsolved_victim_sex/unsolved_victim_sex.sum()\n",
    "\n",
    "#remove age 998 that was inconsistent\n",
    "age_mask = ( unsolved_crimes['Victim Age'] != 998 ) \n",
    "unsolved_victim_age = unsolved_crimes[age_mask].groupby('Victim Age')['Victim Age'].agg(['count'])\n",
    "unsolved_victim_age['prob'] = unsolved_victim_age/unsolved_victim_age.sum()\n",
    "\n",
    "#Keeping unknown weapons\n",
    "unsolved_weapon = unsolved_crimes.groupby('Weapon')['Weapon'].agg(['count'])\n",
    "unsolved_weapon['prob'] = unsolved_weapon/unsolved_weapon.sum()\n",
    "\n",
    "\n",
    "print( unsolved_victim_sex )\n",
    "print(unsolved_victim_age.head())\n",
    "print( unsolved_weapon.head() )\n"
   ]
  },
  {
   "cell_type": "markdown",
   "metadata": {
    "pycharm": {
     "name": "#%% md\n"
    }
   },
   "source": [
    "__For each of the cases(1 and 2) above, compute the probability under the solved an unsolved class (4 probabilities in total).__  "
   ]
  },
  {
   "cell_type": "code",
   "execution_count": 1084,
   "metadata": {
    "pycharm": {
     "name": "#%%\n"
    }
   },
   "outputs": [
    {
     "name": "stdout",
     "output_type": "stream",
     "text": [
      "p(Female/36/Knife/solved) = 0.000812\n",
      "p(Male/20/Handgun/solved) = 0.012273\n",
      "p(Female/36/Knife/unsolved) = 0.000354\n",
      "p(Male/20/Handgun/unsolved) = 0.018238\n"
     ]
    }
   ],
   "source": [
    "\n",
    "# Case 1 : A female aged 36 which was killed using a knife.\n",
    "# Case 2 : A male aged 20 which was killed using a handgun.\n",
    "p_female_36_knife_solved = solved_victim_sex.loc['Female']['prob'] * solved_victim_age.loc[36]['prob'] * solved_weapon.loc['Knife']['prob']\n",
    "p_male_20_handgun_solved = solved_victim_sex.loc['Male']['prob'] * solved_victim_age.loc[20]['prob'] * solved_weapon.loc['Handgun']['prob']\n",
    "\n",
    "p_female_36_knife_unsolved = unsolved_victim_sex.loc['Female']['prob'] * unsolved_victim_age.loc[36]['prob'] * unsolved_weapon.loc['Knife']['prob']\n",
    "p_male_20_handgun_unsolved = unsolved_victim_sex.loc['Male']['prob'] * unsolved_victim_age.loc[20]['prob'] * unsolved_weapon.loc['Handgun']['prob']\n",
    "\n",
    "print( 'p(Female/36/Knife/solved) =', round( p_female_36_knife_solved ,6 ) )\n",
    "print( 'p(Male/20/Handgun/solved) =',round( p_male_20_handgun_solved ,6 ) )\n",
    "print( 'p(Female/36/Knife/unsolved) =', round( p_female_36_knife_unsolved ,6 ) )\n",
    "print( 'p(Male/20/Handgun/unsolved) =', round( p_male_20_handgun_unsolved ,6 ) )\n"
   ]
  },
  {
   "cell_type": "markdown",
   "metadata": {
    "pycharm": {
     "name": "#%% md\n"
    }
   },
   "source": [
    "__Now, report which of the cases has a higher probability of being solved than not solved.__"
   ]
  },
  {
   "cell_type": "code",
   "execution_count": 1085,
   "metadata": {
    "pycharm": {
     "name": "#%%\n"
    }
   },
   "outputs": [
    {
     "name": "stdout",
     "output_type": "stream",
     "text": [
      "Case 1 - Female/36/Knife - ratio 0.696\n",
      "Case 2 - Male/20/Handgun - ratio 0.402\n"
     ]
    }
   ],
   "source": [
    "#Check the ratio between the solved crimes with stated case characteristics and total cases with those characteristics.\n",
    "case_1_features_ratio = round( p_female_36_knife_solved / ( p_female_36_knife_solved + p_female_36_knife_unsolved ), 3 )\n",
    "case_2_features_ratio = round( p_male_20_handgun_solved / ( p_male_20_handgun_solved + p_male_20_handgun_unsolved), 3  )\n",
    "print('Case 1 - Female/36/Knife - ratio', case_1_features_ratio )\n",
    "print('Case 2 - Male/20/Handgun - ratio', case_2_features_ratio )\n",
    "\n",
    "#As per these features, police should focus resources in solving Case 1 \n",
    "#According to historic data, it has higher probability of being solved than not solved (when compared to Case 2)"
   ]
  },
  {
   "cell_type": "markdown",
   "metadata": {
    "pycharm": {
     "name": "#%% md\n"
    }
   },
   "source": [
    "## End of notebook"
   ]
  }
 ],
 "metadata": {
  "kernelspec": {
   "display_name": "Python 3",
   "language": "python",
   "name": "python3"
  },
  "language_info": {
   "codemirror_mode": {
    "name": "ipython",
    "version": 3
   },
   "file_extension": ".py",
   "mimetype": "text/x-python",
   "name": "python",
   "nbconvert_exporter": "python",
   "pygments_lexer": "ipython3",
   "version": "3.8.5"
  },
  "varInspector": {
   "cols": {
    "lenName": 16,
    "lenType": 16,
    "lenVar": 40
   },
   "kernels_config": {
    "python": {
     "delete_cmd_postfix": "",
     "delete_cmd_prefix": "del ",
     "library": "var_list.py",
     "varRefreshCmd": "print(var_dic_list())"
    },
    "r": {
     "delete_cmd_postfix": ") ",
     "delete_cmd_prefix": "rm(",
     "library": "var_list.r",
     "varRefreshCmd": "cat(var_dic_list()) "
    }
   },
   "types_to_exclude": [
    "module",
    "function",
    "builtin_function_or_method",
    "instance",
    "_Feature"
   ],
   "window_display": false
  }
 },
 "nbformat": 4,
 "nbformat_minor": 4
}